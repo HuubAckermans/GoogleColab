{
 "cells": [
  {
   "cell_type": "code",
   "execution_count": 5,
   "metadata": {},
   "outputs": [],
   "source": [
    "import torch\n",
    "import utils\n",
    "from datetime import datetime\n",
    "import os\n",
    "import math\n",
    "from matplotlib import pyplot as plt\n",
    "from tensorflow.keras.utils import load_img, img_to_array"
   ]
  },
  {
   "cell_type": "code",
   "execution_count": 6,
   "metadata": {},
   "outputs": [
    {
     "name": "stdout",
     "output_type": "stream",
     "text": [
      "Yolov5 already installed\n"
     ]
    }
   ],
   "source": [
    "\n",
    "if not os.path.exists(\"./yolov5\"):\n",
    "    !git clone https://github.com/ultralytics/yolov5  # clone\n",
    "    !cd yolov5\n",
    "    !pip install -qr ./yolov5/requirements.txt  # install\n",
    "else: \n",
    "    print(f\"Yolov5 already installed\")\n",
    "\n",
    "\n",
    "#display = utils.notebook_init()  # checks"
   ]
  },
  {
   "attachments": {},
   "cell_type": "markdown",
   "metadata": {},
   "source": [
    "### Helper functions"
   ]
  },
  {
   "cell_type": "code",
   "execution_count": 7,
   "metadata": {},
   "outputs": [],
   "source": [
    "def convert_annotations_DOTA_to_YOLOv5(dota_annotations_path, dota_images_path, yolov5_annotations_path):\n",
    "    \n",
    "\n",
    "    # define the DOTA class mapping\n",
    "    class_mapping = {\n",
    "        'plane': 0,\n",
    "        'baseball-diamond': 1,\n",
    "        'bridge': 2,\n",
    "        'ground-track-field': 3,\n",
    "        'small-vehicle': 4,\n",
    "        'large-vehicle': 5,\n",
    "        'ship': 6,\n",
    "        'tennis-court': 7,\n",
    "        'basketball-court': 8,\n",
    "        'storage-tank': 9,\n",
    "        'soccer-ball-field': 10,\n",
    "        'roundabout': 11,\n",
    "        'harbor': 12,\n",
    "        'swimming-pool': 13,\n",
    "        'helicopter': 14,\n",
    "        'container-crane': 15\n",
    "    }\n",
    "\n",
    "\n",
    "    # loop through each annotation file in the DOTA annotations directory\n",
    "    for filename in os.listdir(dota_annotations_path):\n",
    "        if filename.endswith('.txt'):\n",
    "            # read in the DOTA annotation file\n",
    "            with open(os.path.join(dota_annotations_path, filename), 'r') as f:\n",
    "                lines = f.readlines()\n",
    "            # extract the image dimensions from the corresponding image file\n",
    "            image_filename = os.path.splitext(filename)[0] + '.png'\n",
    "            image = cv2.imread(os.path.join(dota_images_path, image_filename))\n",
    "            height, width, _ = image.shape\n",
    "            # create a new file for the YOLOv5 annotations\n",
    "            yolov5_filename = os.path.splitext(filename)[0] + '.txt'\n",
    "            yolov5_filepath = os.path.join(yolov5_annotations_path, yolov5_filename)\n",
    "            with open(yolov5_filepath, 'w') as f:\n",
    "                # loop through each object in the DOTA annotation file\n",
    "                for line in lines:\n",
    "                    parts = line.split()\n",
    "                    class_name = parts[8]\n",
    "                    class_id = class_mapping[class_name]\n",
    "                    x1, y1, x2, y2, x3, y3, x4, y4 = map(float, parts[:8])\n",
    "                    # compute the center coordinates and dimensions of the bounding box\n",
    "                    x_center = (x1 + x3) / 2 / width\n",
    "                    y_center = (y1 + y3) / 2 / height\n",
    "                    bbox_width = abs(x3 - x1) / width\n",
    "                    bbox_height = abs(y3 - y1) / height\n",
    "                    # write the YOLOv5 annotation to the output file\n",
    "                    f.write('{} {:.6f} {:.6f} {:.6f} {:.6f}\\n'.format(class_id, x_center, y_center, bbox_width, bbox_height))\n"
   ]
  },
  {
   "cell_type": "code",
   "execution_count": 8,
   "metadata": {},
   "outputs": [],
   "source": [
    "def get_images(base_path, first_index=None, last_index=None):\n",
    "    file_types = [\".jpg\", \".png\", \".jepg\"]\n",
    "    result = []\n",
    "    \n",
    "    all_files = os.listdir(base_path)\n",
    "\n",
    "    if first_index == None:\n",
    "        first_index = 0\n",
    "    if last_index == None:\n",
    "        last_index = len(all_files) - 1\n",
    "\n",
    "    \n",
    "\n",
    "    for i,file in enumerate(all_files):\n",
    "        if any([x in file for x in file_types]):\n",
    "            if i <= last_index and i >= first_index:\n",
    "                result.append(os.path.join(base_path,file).replace(\"\\\\\", \"/\"))\n",
    "\n",
    "    return result"
   ]
  },
  {
   "cell_type": "code",
   "execution_count": 18,
   "metadata": {},
   "outputs": [],
   "source": [
    "def create_image_description_file(items, base_path, name):\n",
    "    file_path = base_path + \"/\" + name + \".txt\"\n",
    "\n",
    "    with open(file_path, 'w') as fp:\n",
    "        print(f\"Writing file: {file_path}\")\n",
    "        for item in items:\n",
    "            # write each item on a new line\n",
    "            fp.write(\".%s\\n\" % item)\n",
    "        print(f'Done')"
   ]
  },
  {
   "cell_type": "code",
   "execution_count": 10,
   "metadata": {},
   "outputs": [],
   "source": [
    "def isImage(filename):\n",
    "    file_types = ['.png', '.jpg', '.jpeg', '.tiff', '.bmp', '.gif']\n",
    "    \n",
    "    if any([x in filename for x in file_types]):\n",
    "        return True\n",
    "    else:\n",
    "        return False; "
   ]
  },
  {
   "cell_type": "code",
   "execution_count": 11,
   "metadata": {},
   "outputs": [
    {
     "name": "stdout",
     "output_type": "stream",
     "text": [
      "58\n"
     ]
    }
   ],
   "source": [
    "def countObjectsDetected(labels_folder_path):\n",
    "    num_detections = 0\n",
    "\n",
    "    label_files = os.listdir(labels_folder_path)\n",
    "    for i in label_files:\n",
    "        \n",
    "        with open(os.path.join(labels_folder_path,i)) as file:\n",
    "            lines = file.readlines()\n",
    "            num_detections += len(lines)\n",
    "            \n",
    "    #print(f\"{num_detections} objects were detected\")\n",
    "    return num_detections\n",
    "\n",
    "print(countObjectsDetected(\"yolov5/runs/detect/weights_yolov5s.pt_29-05-2023_174639/labels\"))"
   ]
  },
  {
   "cell_type": "code",
   "execution_count": 12,
   "metadata": {},
   "outputs": [],
   "source": [
    "def displayImagesFromFolder(folder_path,\n",
    "                            num,\n",
    "                            title=\"\"):\n",
    "    \n",
    "        \n",
    "    base_dir = folder_path\n",
    "    imgs_to_display = int(num)\n",
    "\n",
    "    # get all files\n",
    "    files = os.listdir(base_dir)\n",
    "\n",
    "    # filter out non-images\n",
    "    files = [x for x in files if isImage(x)]\n",
    "\n",
    "    # make full paths\n",
    "    files = [os.path.join(base_dir, x) for x in files]\n",
    "\n",
    "    files = files[0 : imgs_to_display]\n",
    "\n",
    "\n",
    "\n",
    "    cols = 2\n",
    "    rows = math.ceil(len(files)/2)\n",
    "\n",
    "\n",
    "    fig, axs = plt.subplots(rows, cols, figsize=(600,300), gridspec_kw={'width_ratios': [1, 1]})\n",
    "\n",
    "    fig.suptitle(title, fontsize=16)\n",
    "\n",
    "\n",
    "    for i, img in enumerate(files):\n",
    "        col = i%2\n",
    "        row = i//2\n",
    "        \n",
    "        if row == rows and col == cols:\n",
    "            break\n",
    "        \n",
    "        axs[row, col].imshow(load_img(img))\n",
    "        axs[row, col].get_xaxis().set_visible(False)\n",
    "        axs[row, col].get_yaxis().set_visible(False)\n",
    "        print(i)\n",
    "    plt.show()"
   ]
  },
  {
   "attachments": {},
   "cell_type": "markdown",
   "metadata": {},
   "source": [
    "### Convert the labels from DOTA to YOLOv5 (only required once)\n",
    "\n",
    "Make sure to have the following file structure: \n",
    "\n",
    " parent<br>\n",
    " ├── current file<br> \n",
    " ├── yolov5<br>\n",
    " └── datasets<br>\n",
    "&emsp;&emsp;└── custom_dataset<br>\n",
    "&emsp;&emsp;&emsp;&emsp;└──  images<br>\n",
    "&emsp;&emsp;&emsp;&emsp;&emsp;&emsp;└── train<br>\n",
    "&emsp;&emsp;&emsp;&emsp;&emsp;&emsp;└── test<br>\n",
    "&emsp;&emsp;&emsp;&emsp;&emsp;&emsp;└── initial_tests<br>\n",
    "&emsp;&emsp;&emsp;&emsp;└── labels<br>\n",
    "&emsp;&emsp;&emsp;&emsp;&emsp;&emsp;└── test<br>\n",
    "&emsp;&emsp;&emsp;&emsp;&emsp;&emsp;└── train<br>\n",
    "\n"
   ]
  },
  {
   "cell_type": "code",
   "execution_count": 13,
   "metadata": {},
   "outputs": [],
   "source": [
    "convert_train_annotations = False\n",
    "convert_test_annotations  = False\n",
    "\n",
    "if convert_test_annotations:\n",
    "    # convert the annotations for the train folder\n",
    "    path_to_train_images_DOTA = \"\"\n",
    "    path_to_train_labels_DOTA = \"\"\n",
    "    target_YOLOv5_annotations_path = \"\"\n",
    "\n",
    "    convert_annotations_DOTA_to_YOLOv5(path_to_train_labels_DOTA, path_to_train_images_DOTA, target_YOLOv5_annotations_path)\n",
    "\n",
    "\n",
    "if convert_train_annotations: \n",
    "    # convert the annotations for the test folder\n",
    "    path_to_test_images_DOTA = r\"../datasets/custom_dataset/images/test/\"\n",
    "    path_to_test_labels_DOTA = r\"C:/Users/hsack/Downloads/test/aerial txts 1024\"\n",
    "    target_YOLOv5_annotations_path = r\"../datasets/custom_dataset/labels/test/\"\n",
    "\n",
    "    convert_annotations_DOTA_to_YOLOv5(path_to_test_labels_DOTA, path_to_test_images_DOTA, target_YOLOv5_annotations_path)"
   ]
  },
  {
   "attachments": {},
   "cell_type": "markdown",
   "metadata": {},
   "source": [
    "### Create image path files\n"
   ]
  },
  {
   "cell_type": "code",
   "execution_count": 14,
   "metadata": {},
   "outputs": [
    {
     "name": "stdout",
     "output_type": "stream",
     "text": [
      "There are 1000\timages in the train\tfolder\n",
      "There are 240\timages in the test\tfolder\n",
      "There are 31\timages in the test\tfolder\n"
     ]
    }
   ],
   "source": [
    "path_dataset = './datasets/custom_dataset'\n",
    "path_dataset_images = path_dataset + '/images'\n",
    "\n",
    "path_test_images = path_dataset_images + '/test'\n",
    "path_train_images = path_dataset_images + '/train'\n",
    "path_val_images  = path_dataset_images + '/train'\n",
    "path_initial_test_images = path_dataset_images + '/initial_tests'\n",
    "\n",
    "\n",
    "num_images_in_train = len(os.listdir(path_train_images))\n",
    "num_images_in_test  = len(os.listdir(path_test_images))\n",
    "num_images_in_initial_test  = len(os.listdir(path_initial_test_images))\n",
    "\n",
    "print(f\"There are {num_images_in_train}\\timages in the train\\tfolder\")\n",
    "print(f\"There are {num_images_in_test}\\timages in the test\\tfolder\")\n",
    "print(f\"There are {num_images_in_initial_test}\\timages in the test\\tfolder\")\n",
    "\n"
   ]
  },
  {
   "cell_type": "code",
   "execution_count": 19,
   "metadata": {},
   "outputs": [
    {
     "name": "stdout",
     "output_type": "stream",
     "text": [
      "Writing file: ./datasets/custom_dataset/train.txt\n",
      "Done\n",
      "Writing file: ./datasets/custom_dataset/val.txt\n",
      "Done\n",
      "Writing file: ./datasets/custom_dataset/test.txt\n",
      "Done\n",
      "Writing file: ./datasets/custom_dataset/initial_test.txt\n",
      "Done\n"
     ]
    }
   ],
   "source": [
    "num_train_images = 800\n",
    "num_val_images   = 200\n",
    "num_test_images  = 240\n",
    "\n",
    "train = get_images(path_train_images, 0, num_train_images-1)\n",
    "create_image_description_file(train, path_dataset, \"train\")\n",
    "\n",
    "val = get_images(path_val_images, num_images_in_train-num_val_images, num_images_in_train-1)\n",
    "create_image_description_file(val,path_dataset, \"val\")\n",
    "\n",
    "test = get_images(path_initial_test_images, 0 , 10)\n",
    "create_image_description_file(test, path_dataset, \"test\")\n",
    "\n",
    "initial_test = get_images(path_test_images, 0, 4)\n",
    "create_image_description_file(initial_test, path_dataset, \"initial_test\")"
   ]
  },
  {
   "attachments": {},
   "cell_type": "markdown",
   "metadata": {},
   "source": [
    "## Run the (untrained) model on several test-images"
   ]
  },
  {
   "cell_type": "code",
   "execution_count": 13,
   "metadata": {},
   "outputs": [
    {
     "name": "stdout",
     "output_type": "stream",
     "text": [
      "/bin/bash: /home/hsack/miniconda3/envs/tf/lib/libtinfo.so.6: no version information available (required by /bin/bash)\n",
      "\u001b[34m\u001b[1mdetect: \u001b[0mweights=['yolov5s.pt'], source=./datasets/custom_dataset/images/initial_tests, data=yolov5/data/coco128.yaml, imgsz=[640, 640], conf_thres=0.25, iou_thres=0.45, max_det=1000, device=, view_img=False, save_txt=True, save_conf=False, save_crop=False, nosave=False, classes=None, agnostic_nms=False, augment=False, visualize=False, update=False, project=yolov5/runs/detect, name=weights_yolov5s.pt_29-05-2023_184745, exist_ok=False, line_thickness=10, hide_labels=False, hide_conf=False, half=False, dnn=False, vid_stride=1\n",
      "YOLOv5 🚀 v7.0-172-gc3c1304 Python-3.9.16 torch-2.0.1+cu117 CUDA:0 (NVIDIA T600 Laptop GPU, 4096MiB)\n",
      "\n",
      "Fusing layers... \n",
      "YOLOv5s summary: 213 layers, 7225885 parameters, 0 gradients\n",
      "image 1/31 /home/hsack/practical_yolov5/datasets/custom_dataset/images/initial_tests/P10747.png: 448x640 2 trucks, 1 umbrella, 33.9ms\n",
      "image 2/31 /home/hsack/practical_yolov5/datasets/custom_dataset/images/initial_tests/P10808.png: 448x640 (no detections), 90.5ms\n",
      "image 3/31 /home/hsack/practical_yolov5/datasets/custom_dataset/images/initial_tests/P10963.png: 448x640 3 persons, 122.1ms\n",
      "image 4/31 /home/hsack/practical_yolov5/datasets/custom_dataset/images/initial_tests/P3065.png: 448x640 1 truck, 122.3ms\n",
      "image 5/31 /home/hsack/practical_yolov5/datasets/custom_dataset/images/initial_tests/P3555.png: 448x640 3 cars, 1 truck, 1 traffic light, 118.1ms\n",
      "image 6/31 /home/hsack/practical_yolov5/datasets/custom_dataset/images/initial_tests/P4151.png: 448x640 1 train, 122.3ms\n",
      "image 7/31 /home/hsack/practical_yolov5/datasets/custom_dataset/images/initial_tests/P4464.png: 448x640 (no detections), 122.2ms\n",
      "image 8/31 /home/hsack/practical_yolov5/datasets/custom_dataset/images/initial_tests/P4724.png: 448x640 1 person, 2 cars, 2 boats, 122.1ms\n",
      "image 9/31 /home/hsack/practical_yolov5/datasets/custom_dataset/images/initial_tests/P4746.png: 448x640 1 train, 118.2ms\n",
      "image 10/31 /home/hsack/practical_yolov5/datasets/custom_dataset/images/initial_tests/P5034.png: 448x640 4 persons, 1 train, 1 truck, 120.8ms\n",
      "image 11/31 /home/hsack/practical_yolov5/datasets/custom_dataset/images/initial_tests/P5070.png: 448x640 (no detections), 122.3ms\n",
      "image 12/31 /home/hsack/practical_yolov5/datasets/custom_dataset/images/initial_tests/P5102.png: 448x640 2 trucks, 122.3ms\n",
      "image 13/31 /home/hsack/practical_yolov5/datasets/custom_dataset/images/initial_tests/P5195.png: 448x640 1 person, 1 car, 1 bench, 122.2ms\n",
      "image 14/31 /home/hsack/practical_yolov5/datasets/custom_dataset/images/initial_tests/P5392.png: 448x640 (no detections), 121.8ms\n",
      "image 15/31 /home/hsack/practical_yolov5/datasets/custom_dataset/images/initial_tests/P5760.png: 448x640 (no detections), 123.3ms\n",
      "image 16/31 /home/hsack/practical_yolov5/datasets/custom_dataset/images/initial_tests/P6281.png: 448x640 1 person, 1 train, 122.5ms\n",
      "image 17/31 /home/hsack/practical_yolov5/datasets/custom_dataset/images/initial_tests/P6687.png: 448x640 1 car, 2 trucks, 116.2ms\n",
      "image 18/31 /home/hsack/practical_yolov5/datasets/custom_dataset/images/initial_tests/P6769.png: 448x640 (no detections), 122.4ms\n",
      "image 19/31 /home/hsack/practical_yolov5/datasets/custom_dataset/images/initial_tests/P7442.png: 448x640 1 train, 122.1ms\n",
      "image 20/31 /home/hsack/practical_yolov5/datasets/custom_dataset/images/initial_tests/P7476.png: 448x640 (no detections), 116.1ms\n",
      "image 21/31 /home/hsack/practical_yolov5/datasets/custom_dataset/images/initial_tests/P7584.png: 448x640 5 cars, 2 umbrellas, 123.0ms\n",
      "image 22/31 /home/hsack/practical_yolov5/datasets/custom_dataset/images/initial_tests/P8003.png: 448x640 1 car, 122.2ms\n",
      "image 23/31 /home/hsack/practical_yolov5/datasets/custom_dataset/images/initial_tests/P8204.png: 448x640 (no detections), 121.5ms\n",
      "image 24/31 /home/hsack/practical_yolov5/datasets/custom_dataset/images/initial_tests/P8287.png: 448x640 (no detections), 122.3ms\n",
      "image 25/31 /home/hsack/practical_yolov5/datasets/custom_dataset/images/initial_tests/P8461.png: 448x640 1 truck, 123.3ms\n",
      "image 26/31 /home/hsack/practical_yolov5/datasets/custom_dataset/images/initial_tests/P8587.png: 448x640 6 cars, 122.1ms\n",
      "image 27/31 /home/hsack/practical_yolov5/datasets/custom_dataset/images/initial_tests/P8656.png: 448x640 1 truck, 122.3ms\n",
      "image 28/31 /home/hsack/practical_yolov5/datasets/custom_dataset/images/initial_tests/P9018.png: 448x640 1 surfboard, 122.1ms\n",
      "image 29/31 /home/hsack/practical_yolov5/datasets/custom_dataset/images/initial_tests/P9337.png: 448x640 1 train, 123.7ms\n",
      "image 30/31 /home/hsack/practical_yolov5/datasets/custom_dataset/images/initial_tests/P9347.png: 448x640 1 person, 122.1ms\n",
      "image 31/31 /home/hsack/practical_yolov5/datasets/custom_dataset/images/initial_tests/P9645.png: 448x640 1 car, 1 truck, 1 boat, 122.1ms\n",
      "Speed: 3.4ms pre-process, 117.8ms inference, 4.0ms NMS per image at shape (1, 3, 640, 640)\n",
      "Results saved to \u001b[1myolov5/runs/detect/weights_yolov5s.pt_29-05-2023_184745\u001b[0m\n",
      "22 labels saved to yolov5/runs/detect/weights_yolov5s.pt_29-05-2023_184745/labels\n"
     ]
    }
   ],
   "source": [
    "# Run the model with the yolov5s weights\n",
    "weights_folder = \"\"\n",
    "weights = \"yolov5s.pt\"\n",
    "run_name = \"weights_\"+ weights + \"_\" + datetime.now().strftime(\"%d-%m-%Y_%H%M%S\")\n",
    "\n",
    "path_to_initial_test_folder = \"./datasets/custom_dataset/images/initial_tests\"\n",
    "\n",
    "y5s_weights_run = f\"./yolov5/runs/detect/{run_name}\"\n",
    "\n",
    "# detect with original yolov5s.pt weights\n",
    "!python ./yolov5/detect.py --weights {weights} --img 640 --conf 0.25 --source {path_to_initial_test_folder} --name {run_name}  --line-thickness 10 --save-txt\n",
    "      "
   ]
  },
  {
   "cell_type": "code",
   "execution_count": 14,
   "metadata": {},
   "outputs": [
    {
     "name": "stdout",
     "output_type": "stream",
     "text": [
      "/bin/bash: /home/hsack/miniconda3/envs/tf/lib/libtinfo.so.6: no version information available (required by /bin/bash)\n",
      "\u001b[34m\u001b[1mdetect: \u001b[0mweights=['yolov5m.pt'], source=./datasets/custom_dataset/images/initial_tests, data=yolov5/data/coco128.yaml, imgsz=[640, 640], conf_thres=0.25, iou_thres=0.45, max_det=1000, device=, view_img=False, save_txt=True, save_conf=False, save_crop=False, nosave=False, classes=None, agnostic_nms=False, augment=False, visualize=False, update=False, project=yolov5/runs/detect, name=weights_yolov5m.pt_29-05-2023_184916, exist_ok=False, line_thickness=10, hide_labels=False, hide_conf=False, half=False, dnn=False, vid_stride=1\n",
      "YOLOv5 🚀 v7.0-172-gc3c1304 Python-3.9.16 torch-2.0.1+cu117 CUDA:0 (NVIDIA T600 Laptop GPU, 4096MiB)\n",
      "\n",
      "Fusing layers... \n",
      "YOLOv5m summary: 290 layers, 21172173 parameters, 0 gradients\n",
      "image 1/31 /home/hsack/practical_yolov5/datasets/custom_dataset/images/initial_tests/P10747.png: 448x640 1 person, 9 cars, 1 bus, 2 trucks, 41.0ms\n",
      "image 2/31 /home/hsack/practical_yolov5/datasets/custom_dataset/images/initial_tests/P10808.png: 448x640 6 cars, 1 boat, 36.6ms\n",
      "image 3/31 /home/hsack/practical_yolov5/datasets/custom_dataset/images/initial_tests/P10963.png: 448x640 1 person, 4 cars, 178.7ms\n",
      "image 4/31 /home/hsack/practical_yolov5/datasets/custom_dataset/images/initial_tests/P3065.png: 448x640 1 train, 1 boat, 114.9ms\n",
      "image 5/31 /home/hsack/practical_yolov5/datasets/custom_dataset/images/initial_tests/P3555.png: 448x640 (no detections), 171.5ms\n",
      "image 6/31 /home/hsack/practical_yolov5/datasets/custom_dataset/images/initial_tests/P4151.png: 448x640 3 trucks, 114.8ms\n",
      "image 7/31 /home/hsack/practical_yolov5/datasets/custom_dataset/images/initial_tests/P4464.png: 448x640 1 person, 4 cars, 211.5ms\n",
      "image 8/31 /home/hsack/practical_yolov5/datasets/custom_dataset/images/initial_tests/P4724.png: 448x640 1 car, 1 train, 4 boats, 210.3ms\n",
      "image 9/31 /home/hsack/practical_yolov5/datasets/custom_dataset/images/initial_tests/P4746.png: 448x640 1 car, 2 trains, 190.0ms\n",
      "image 10/31 /home/hsack/practical_yolov5/datasets/custom_dataset/images/initial_tests/P5034.png: 448x640 2 cars, 1 truck, 210.2ms\n",
      "image 11/31 /home/hsack/practical_yolov5/datasets/custom_dataset/images/initial_tests/P5070.png: 448x640 1 clock, 228.0ms\n",
      "image 12/31 /home/hsack/practical_yolov5/datasets/custom_dataset/images/initial_tests/P5102.png: 448x640 1 boat, 231.0ms\n",
      "image 13/31 /home/hsack/practical_yolov5/datasets/custom_dataset/images/initial_tests/P5195.png: 448x640 3 cars, 233.3ms\n",
      "image 14/31 /home/hsack/practical_yolov5/datasets/custom_dataset/images/initial_tests/P5392.png: 448x640 (no detections), 207.9ms\n",
      "image 15/31 /home/hsack/practical_yolov5/datasets/custom_dataset/images/initial_tests/P5760.png: 448x640 (no detections), 210.4ms\n",
      "image 16/31 /home/hsack/practical_yolov5/datasets/custom_dataset/images/initial_tests/P6281.png: 448x640 1 car, 246.3ms\n",
      "image 17/31 /home/hsack/practical_yolov5/datasets/custom_dataset/images/initial_tests/P6687.png: 448x640 4 cars, 1 truck, 210.5ms\n",
      "image 18/31 /home/hsack/practical_yolov5/datasets/custom_dataset/images/initial_tests/P6769.png: 448x640 1 person, 202.8ms\n",
      "image 19/31 /home/hsack/practical_yolov5/datasets/custom_dataset/images/initial_tests/P7442.png: 448x640 1 train, 1 truck, 189.0ms\n",
      "image 20/31 /home/hsack/practical_yolov5/datasets/custom_dataset/images/initial_tests/P7476.png: 448x640 1 person, 210.1ms\n",
      "image 21/31 /home/hsack/practical_yolov5/datasets/custom_dataset/images/initial_tests/P7584.png: 448x640 7 cars, 5 trucks, 229.7ms\n",
      "image 22/31 /home/hsack/practical_yolov5/datasets/custom_dataset/images/initial_tests/P8003.png: 448x640 1 car, 1 traffic light, 256.3ms\n",
      "image 23/31 /home/hsack/practical_yolov5/datasets/custom_dataset/images/initial_tests/P8204.png: 448x640 (no detections), 223.6ms\n",
      "image 24/31 /home/hsack/practical_yolov5/datasets/custom_dataset/images/initial_tests/P8287.png: 448x640 (no detections), 250.4ms\n",
      "image 25/31 /home/hsack/practical_yolov5/datasets/custom_dataset/images/initial_tests/P8461.png: 448x640 2 umbrellas, 267.1ms\n",
      "image 26/31 /home/hsack/practical_yolov5/datasets/custom_dataset/images/initial_tests/P8587.png: 448x640 13 cars, 205.3ms\n",
      "image 27/31 /home/hsack/practical_yolov5/datasets/custom_dataset/images/initial_tests/P8656.png: 448x640 2 persons, 2 cars, 1 traffic light, 220.6ms\n",
      "image 28/31 /home/hsack/practical_yolov5/datasets/custom_dataset/images/initial_tests/P9018.png: 448x640 1 car, 1 tennis racket, 209.3ms\n",
      "image 29/31 /home/hsack/practical_yolov5/datasets/custom_dataset/images/initial_tests/P9337.png: 448x640 (no detections), 228.8ms\n",
      "image 30/31 /home/hsack/practical_yolov5/datasets/custom_dataset/images/initial_tests/P9347.png: 448x640 1 car, 1 boat, 210.2ms\n",
      "image 31/31 /home/hsack/practical_yolov5/datasets/custom_dataset/images/initial_tests/P9645.png: 448x640 5 cars, 232.7ms\n",
      "Speed: 3.1ms pre-process, 199.4ms inference, 2.7ms NMS per image at shape (1, 3, 640, 640)\n",
      "Results saved to \u001b[1myolov5/runs/detect/weights_yolov5m.pt_29-05-2023_184916\u001b[0m\n",
      "25 labels saved to yolov5/runs/detect/weights_yolov5m.pt_29-05-2023_184916/labels\n"
     ]
    }
   ],
   "source": [
    "# Run the model with the yolov5m weights\n",
    "weights_folder = \"\"\n",
    "weights = \"yolov5m.pt\"\n",
    "run_name = \"weights_\"+ weights + \"_\" + datetime.now().strftime(\"%d-%m-%Y_%H%M%S\")\n",
    "\n",
    "weights_path = os.path.join(weights_folder, weights)\n",
    "path_to_initial_test_folder = \"./datasets/custom_dataset/images/initial_tests\"\n",
    "\n",
    "y5m_weights_run = f\"./yolov5/runs/detect/{run_name}\"\n",
    "\n",
    "# detect with original yolov5s.pt weights\n",
    "!python ./yolov5/detect.py --weights {weights} --img 640 --conf 0.25 --source {path_to_initial_test_folder} --name {run_name}  --line-thickness 10 --save-txt\n",
    "      "
   ]
  },
  {
   "cell_type": "code",
   "execution_count": 15,
   "metadata": {},
   "outputs": [
    {
     "name": "stdout",
     "output_type": "stream",
     "text": [
      "/bin/bash: /home/hsack/miniconda3/envs/tf/lib/libtinfo.so.6: no version information available (required by /bin/bash)\n",
      "\u001b[34m\u001b[1mdetect: \u001b[0mweights=['yolov5l.pt'], source=./datasets/custom_dataset/images/initial_tests, data=yolov5/data/coco128.yaml, imgsz=[640, 640], conf_thres=0.25, iou_thres=0.45, max_det=1000, device=, view_img=False, save_txt=True, save_conf=False, save_crop=False, nosave=False, classes=None, agnostic_nms=False, augment=False, visualize=False, update=False, project=yolov5/runs/detect, name=weights_yolov5l.pt_29-05-2023_185043, exist_ok=False, line_thickness=10, hide_labels=False, hide_conf=False, half=False, dnn=False, vid_stride=1\n",
      "YOLOv5 🚀 v7.0-172-gc3c1304 Python-3.9.16 torch-2.0.1+cu117 CUDA:0 (NVIDIA T600 Laptop GPU, 4096MiB)\n",
      "\n",
      "Fusing layers... \n",
      "YOLOv5l summary: 367 layers, 46533693 parameters, 0 gradients\n",
      "image 1/31 /home/hsack/practical_yolov5/datasets/custom_dataset/images/initial_tests/P10747.png: 448x640 1 clock, 68.9ms\n",
      "image 2/31 /home/hsack/practical_yolov5/datasets/custom_dataset/images/initial_tests/P10808.png: 448x640 (no detections), 200.0ms\n",
      "image 3/31 /home/hsack/practical_yolov5/datasets/custom_dataset/images/initial_tests/P10963.png: 448x640 1 car, 1 train, 1 umbrella, 2 clocks, 270.5ms\n",
      "image 4/31 /home/hsack/practical_yolov5/datasets/custom_dataset/images/initial_tests/P3065.png: 448x640 1 car, 1 bus, 1 train, 1 boat, 308.3ms\n",
      "image 5/31 /home/hsack/practical_yolov5/datasets/custom_dataset/images/initial_tests/P3555.png: 448x640 (no detections), 211.0ms\n",
      "image 6/31 /home/hsack/practical_yolov5/datasets/custom_dataset/images/initial_tests/P4151.png: 448x640 (no detections), 283.8ms\n",
      "image 7/31 /home/hsack/practical_yolov5/datasets/custom_dataset/images/initial_tests/P4464.png: 448x640 4 cars, 219.3ms\n",
      "image 8/31 /home/hsack/practical_yolov5/datasets/custom_dataset/images/initial_tests/P4724.png: 448x640 1 person, 4 trains, 8 boats, 239.9ms\n",
      "image 9/31 /home/hsack/practical_yolov5/datasets/custom_dataset/images/initial_tests/P4746.png: 448x640 (no detections), 226.5ms\n",
      "image 10/31 /home/hsack/practical_yolov5/datasets/custom_dataset/images/initial_tests/P5034.png: 448x640 (no detections), 262.2ms\n",
      "image 11/31 /home/hsack/practical_yolov5/datasets/custom_dataset/images/initial_tests/P5070.png: 448x640 1 bus, 302.5ms\n",
      "image 12/31 /home/hsack/practical_yolov5/datasets/custom_dataset/images/initial_tests/P5102.png: 448x640 (no detections), 231.3ms\n",
      "image 13/31 /home/hsack/practical_yolov5/datasets/custom_dataset/images/initial_tests/P5195.png: 448x640 (no detections), 280.2ms\n",
      "image 14/31 /home/hsack/practical_yolov5/datasets/custom_dataset/images/initial_tests/P5392.png: 448x640 (no detections), 273.9ms\n",
      "image 15/31 /home/hsack/practical_yolov5/datasets/custom_dataset/images/initial_tests/P5760.png: 448x640 (no detections), 318.4ms\n",
      "image 16/31 /home/hsack/practical_yolov5/datasets/custom_dataset/images/initial_tests/P6281.png: 448x640 (no detections), 265.6ms\n",
      "image 17/31 /home/hsack/practical_yolov5/datasets/custom_dataset/images/initial_tests/P6687.png: 448x640 4 cars, 1 bus, 1 truck, 295.5ms\n",
      "image 18/31 /home/hsack/practical_yolov5/datasets/custom_dataset/images/initial_tests/P6769.png: 448x640 1 skis, 201.9ms\n",
      "image 19/31 /home/hsack/practical_yolov5/datasets/custom_dataset/images/initial_tests/P7442.png: 448x640 (no detections), 204.5ms\n",
      "image 20/31 /home/hsack/practical_yolov5/datasets/custom_dataset/images/initial_tests/P7476.png: 448x640 1 train, 193.5ms\n",
      "image 21/31 /home/hsack/practical_yolov5/datasets/custom_dataset/images/initial_tests/P7584.png: 448x640 1 person, 14 cars, 1 bus, 3 trucks, 205.0ms\n",
      "image 22/31 /home/hsack/practical_yolov5/datasets/custom_dataset/images/initial_tests/P8003.png: 448x640 (no detections), 222.7ms\n",
      "image 23/31 /home/hsack/practical_yolov5/datasets/custom_dataset/images/initial_tests/P8204.png: 448x640 (no detections), 268.2ms\n",
      "image 24/31 /home/hsack/practical_yolov5/datasets/custom_dataset/images/initial_tests/P8287.png: 448x640 (no detections), 292.5ms\n",
      "image 25/31 /home/hsack/practical_yolov5/datasets/custom_dataset/images/initial_tests/P8461.png: 448x640 (no detections), 328.3ms\n",
      "image 26/31 /home/hsack/practical_yolov5/datasets/custom_dataset/images/initial_tests/P8587.png: 448x640 14 cars, 246.0ms\n",
      "image 27/31 /home/hsack/practical_yolov5/datasets/custom_dataset/images/initial_tests/P8656.png: 448x640 (no detections), 273.3ms\n",
      "image 28/31 /home/hsack/practical_yolov5/datasets/custom_dataset/images/initial_tests/P9018.png: 448x640 1 car, 1 skis, 1 surfboard, 1 tennis racket, 231.9ms\n",
      "image 29/31 /home/hsack/practical_yolov5/datasets/custom_dataset/images/initial_tests/P9337.png: 448x640 1 clock, 269.5ms\n",
      "image 30/31 /home/hsack/practical_yolov5/datasets/custom_dataset/images/initial_tests/P9347.png: 448x640 1 bus, 2 trains, 1 truck, 221.8ms\n",
      "image 31/31 /home/hsack/practical_yolov5/datasets/custom_dataset/images/initial_tests/P9645.png: 448x640 9 cars, 1 bus, 1 truck, 217.1ms\n",
      "Speed: 3.0ms pre-process, 246.3ms inference, 1.8ms NMS per image at shape (1, 3, 640, 640)\n",
      "Results saved to \u001b[1myolov5/runs/detect/weights_yolov5l.pt_29-05-2023_185043\u001b[0m\n",
      "15 labels saved to yolov5/runs/detect/weights_yolov5l.pt_29-05-2023_185043/labels\n"
     ]
    }
   ],
   "source": [
    "# Run the model with the yolov5l weights\n",
    "weights_folder = \"\"\n",
    "weights = \"yolov5l.pt\"\n",
    "run_name = \"weights_\"+ weights + \"_\" + datetime.now().strftime(\"%d-%m-%Y_%H%M%S\")\n",
    "\n",
    "path_to_initial_test_folder = \"./datasets/custom_dataset/images/initial_tests\"\n",
    "\n",
    "y5l_weights_run = f\"./yolov5/runs/detect/{run_name}\"\n",
    "\n",
    "# detect with original yolov5s.pt weights\n",
    "!python ./yolov5/detect.py --weights {weights} --img 640 --conf 0.25 --source {path_to_initial_test_folder} --name {run_name}  --line-thickness 10 --save-txt\n",
    "      "
   ]
  },
  {
   "cell_type": "code",
   "execution_count": 16,
   "metadata": {},
   "outputs": [
    {
     "name": "stdout",
     "output_type": "stream",
     "text": [
      "/bin/bash: /home/hsack/miniconda3/envs/tf/lib/libtinfo.so.6: no version information available (required by /bin/bash)\n",
      "\u001b[34m\u001b[1mdetect: \u001b[0mweights=['yolov5x.pt'], source=./datasets/custom_dataset/images/initial_tests, data=yolov5/data/coco128.yaml, imgsz=[640, 640], conf_thres=0.25, iou_thres=0.45, max_det=1000, device=, view_img=False, save_txt=True, save_conf=False, save_crop=False, nosave=False, classes=None, agnostic_nms=False, augment=False, visualize=False, update=False, project=yolov5/runs/detect, name=weights_yolov5x.pt_29-05-2023_185206, exist_ok=False, line_thickness=10, hide_labels=False, hide_conf=False, half=False, dnn=False, vid_stride=1\n",
      "YOLOv5 🚀 v7.0-172-gc3c1304 Python-3.9.16 torch-2.0.1+cu117 CUDA:0 (NVIDIA T600 Laptop GPU, 4096MiB)\n",
      "\n",
      "Fusing layers... \n",
      "YOLOv5x summary: 444 layers, 86705005 parameters, 0 gradients\n",
      "image 1/31 /home/hsack/practical_yolov5/datasets/custom_dataset/images/initial_tests/P10747.png: 448x640 2 cars, 88.4ms\n",
      "image 2/31 /home/hsack/practical_yolov5/datasets/custom_dataset/images/initial_tests/P10808.png: 448x640 5 cars, 318.5ms\n",
      "image 3/31 /home/hsack/practical_yolov5/datasets/custom_dataset/images/initial_tests/P10963.png: 448x640 1 person, 1 car, 2 buss, 1 truck, 295.6ms\n",
      "image 4/31 /home/hsack/practical_yolov5/datasets/custom_dataset/images/initial_tests/P3065.png: 448x640 1 car, 2 trains, 1 truck, 1 boat, 271.8ms\n",
      "image 5/31 /home/hsack/practical_yolov5/datasets/custom_dataset/images/initial_tests/P3555.png: 448x640 (no detections), 242.3ms\n",
      "image 6/31 /home/hsack/practical_yolov5/datasets/custom_dataset/images/initial_tests/P4151.png: 448x640 1 train, 268.2ms\n",
      "image 7/31 /home/hsack/practical_yolov5/datasets/custom_dataset/images/initial_tests/P4464.png: 448x640 1 person, 8 cars, 2 trains, 1 boat, 269.1ms\n",
      "image 8/31 /home/hsack/practical_yolov5/datasets/custom_dataset/images/initial_tests/P4724.png: 448x640 2 cars, 2 buss, 5 trains, 1 truck, 3 boats, 305.9ms\n",
      "image 9/31 /home/hsack/practical_yolov5/datasets/custom_dataset/images/initial_tests/P4746.png: 448x640 1 car, 324.1ms\n",
      "image 10/31 /home/hsack/practical_yolov5/datasets/custom_dataset/images/initial_tests/P5034.png: 448x640 3 cars, 1 truck, 240.7ms\n",
      "image 11/31 /home/hsack/practical_yolov5/datasets/custom_dataset/images/initial_tests/P5070.png: 448x640 1 train, 1 clock, 322.1ms\n",
      "image 12/31 /home/hsack/practical_yolov5/datasets/custom_dataset/images/initial_tests/P5102.png: 448x640 (no detections), 275.4ms\n",
      "image 13/31 /home/hsack/practical_yolov5/datasets/custom_dataset/images/initial_tests/P5195.png: 448x640 1 car, 273.5ms\n",
      "image 14/31 /home/hsack/practical_yolov5/datasets/custom_dataset/images/initial_tests/P5392.png: 448x640 (no detections), 325.9ms\n",
      "image 15/31 /home/hsack/practical_yolov5/datasets/custom_dataset/images/initial_tests/P5760.png: 448x640 (no detections), 252.9ms\n",
      "image 16/31 /home/hsack/practical_yolov5/datasets/custom_dataset/images/initial_tests/P6281.png: 448x640 (no detections), 245.4ms\n",
      "image 17/31 /home/hsack/practical_yolov5/datasets/custom_dataset/images/initial_tests/P6687.png: 448x640 14 cars, 3 trucks, 284.2ms\n",
      "image 18/31 /home/hsack/practical_yolov5/datasets/custom_dataset/images/initial_tests/P6769.png: 448x640 1 boat, 345.4ms\n",
      "image 19/31 /home/hsack/practical_yolov5/datasets/custom_dataset/images/initial_tests/P7442.png: 448x640 (no detections), 260.9ms\n",
      "image 20/31 /home/hsack/practical_yolov5/datasets/custom_dataset/images/initial_tests/P7476.png: 448x640 1 car, 265.3ms\n",
      "image 21/31 /home/hsack/practical_yolov5/datasets/custom_dataset/images/initial_tests/P7584.png: 448x640 17 cars, 1 train, 4 trucks, 268.3ms\n",
      "image 22/31 /home/hsack/practical_yolov5/datasets/custom_dataset/images/initial_tests/P8003.png: 448x640 (no detections), 327.6ms\n",
      "image 23/31 /home/hsack/practical_yolov5/datasets/custom_dataset/images/initial_tests/P8204.png: 448x640 2 cars, 326.6ms\n",
      "image 24/31 /home/hsack/practical_yolov5/datasets/custom_dataset/images/initial_tests/P8287.png: 448x640 (no detections), 308.6ms\n",
      "image 25/31 /home/hsack/practical_yolov5/datasets/custom_dataset/images/initial_tests/P8461.png: 448x640 3 cars, 1 bench, 265.6ms\n",
      "image 26/31 /home/hsack/practical_yolov5/datasets/custom_dataset/images/initial_tests/P8587.png: 448x640 24 cars, 1 train, 287.5ms\n",
      "image 27/31 /home/hsack/practical_yolov5/datasets/custom_dataset/images/initial_tests/P8656.png: 448x640 (no detections), 230.5ms\n",
      "image 28/31 /home/hsack/practical_yolov5/datasets/custom_dataset/images/initial_tests/P9018.png: 448x640 1 car, 1 bus, 1 truck, 1 surfboard, 295.0ms\n",
      "image 29/31 /home/hsack/practical_yolov5/datasets/custom_dataset/images/initial_tests/P9337.png: 448x640 1 truck, 386.4ms\n",
      "image 30/31 /home/hsack/practical_yolov5/datasets/custom_dataset/images/initial_tests/P9347.png: 448x640 1 car, 1 train, 1 boat, 286.7ms\n",
      "image 31/31 /home/hsack/practical_yolov5/datasets/custom_dataset/images/initial_tests/P9645.png: 448x640 14 cars, 1 airplane, 1 truck, 278.9ms\n",
      "Speed: 2.0ms pre-process, 281.8ms inference, 2.6ms NMS per image at shape (1, 3, 640, 640)\n",
      "Results saved to \u001b[1myolov5/runs/detect/weights_yolov5x.pt_29-05-2023_185206\u001b[0m\n",
      "22 labels saved to yolov5/runs/detect/weights_yolov5x.pt_29-05-2023_185206/labels\n"
     ]
    }
   ],
   "source": [
    "# Run the model with the yolov5x weights\n",
    "weights_folder = \"\"\n",
    "weights = \"yolov5x.pt\"\n",
    "run_name = \"weights_\"+ weights + \"_\" + datetime.now().strftime(\"%d-%m-%Y_%H%M%S\")\n",
    "\n",
    "weights_path = os.path.join(weights_folder, weights)\n",
    "path_to_initial_test_folder = \"./datasets/custom_dataset/images/initial_tests\"\n",
    "\n",
    "y5x_weights_run = f\"./yolov5/runs/detect/{run_name}\"\n",
    "\n",
    "# detect with original yolov5s.pt weights\n",
    "!python ./yolov5/detect.py --weights {weights} --img 640 --conf 0.25 --source {path_to_initial_test_folder} --name {run_name}  --line-thickness 10 --save-txt\n",
    "      "
   ]
  },
  {
   "cell_type": "code",
   "execution_count": 1,
   "metadata": {},
   "outputs": [
    {
     "ename": "NameError",
     "evalue": "name 'countObjectsDetected' is not defined",
     "output_type": "error",
     "traceback": [
      "\u001b[0;31m---------------------------------------------------------------------------\u001b[0m",
      "\u001b[0;31mNameError\u001b[0m                                 Traceback (most recent call last)",
      "Cell \u001b[0;32mIn[1], line 1\u001b[0m\n\u001b[0;32m----> 1\u001b[0m \u001b[39mprint\u001b[39m(\u001b[39mf\u001b[39m\u001b[39m\"\u001b[39m\u001b[39mThe s model detected \u001b[39m\u001b[39m{\u001b[39;00mcountObjectsDetected(os\u001b[39m.\u001b[39mpath\u001b[39m.\u001b[39mjoin(y5s_weights_run,\u001b[39m \u001b[39m\u001b[39m'\u001b[39m\u001b[39mlabels\u001b[39m\u001b[39m'\u001b[39m))\u001b[39m}\u001b[39;00m\u001b[39m\\t\u001b[39;00m\u001b[39m\\t\u001b[39;00m\u001b[39mobjects\u001b[39m\u001b[39m\"\u001b[39m)\n\u001b[1;32m      2\u001b[0m \u001b[39mprint\u001b[39m(\u001b[39mf\u001b[39m\u001b[39m\"\u001b[39m\u001b[39mThe m model detected \u001b[39m\u001b[39m{\u001b[39;00mcountObjectsDetected(os\u001b[39m.\u001b[39mpath\u001b[39m.\u001b[39mjoin(y5m_weights_run,\u001b[39m \u001b[39m\u001b[39m'\u001b[39m\u001b[39mlabels\u001b[39m\u001b[39m'\u001b[39m))\u001b[39m}\u001b[39;00m\u001b[39m\\t\u001b[39;00m\u001b[39mobjects\u001b[39m\u001b[39m\"\u001b[39m)\n\u001b[1;32m      3\u001b[0m \u001b[39mprint\u001b[39m(\u001b[39mf\u001b[39m\u001b[39m\"\u001b[39m\u001b[39mThe l model detected \u001b[39m\u001b[39m{\u001b[39;00mcountObjectsDetected(os\u001b[39m.\u001b[39mpath\u001b[39m.\u001b[39mjoin(y5l_weights_run,\u001b[39m \u001b[39m\u001b[39m'\u001b[39m\u001b[39mlabels\u001b[39m\u001b[39m'\u001b[39m))\u001b[39m}\u001b[39;00m\u001b[39m\\t\u001b[39;00m\u001b[39m\\t\u001b[39;00m\u001b[39mobjects\u001b[39m\u001b[39m\"\u001b[39m)\n",
      "\u001b[0;31mNameError\u001b[0m: name 'countObjectsDetected' is not defined"
     ]
    }
   ],
   "source": [
    "\n",
    "print(f\"The s model detected {countObjectsDetected(os.path.join(y5s_weights_run, 'labels'))}\\t\\tobjects\")\n",
    "print(f\"The m model detected {countObjectsDetected(os.path.join(y5m_weights_run, 'labels'))}\\tobjects\")\n",
    "print(f\"The l model detected {countObjectsDetected(os.path.join(y5l_weights_run, 'labels'))}\\t\\tobjects\")\n",
    "print(f\"The x model detected {countObjectsDetected(os.path.join(y5x_weights_run, 'labels'))}\\tobjects\")\n",
    "\n"
   ]
  },
  {
   "attachments": {},
   "cell_type": "markdown",
   "metadata": {},
   "source": [
    "### Train the model"
   ]
  },
  {
   "cell_type": "code",
   "execution_count": 21,
   "metadata": {},
   "outputs": [
    {
     "name": "stdout",
     "output_type": "stream",
     "text": [
      "python ./yolov5/train.py --img 640 --batch 16 --epochs 10 --data ./datasets/custom_dataset.yaml --weights yolov5m.pt --cache --name train_yolov5m.pt_29-05-2023_185530\n"
     ]
    }
   ],
   "source": [
    "from datetime import datetime\n",
    "weights = \"yolov5m.pt\" #Continue working the the m model \n",
    "train1_run_name = \"train_\"+ weights + \"_\" + datetime.now().strftime(\"%d-%m-%Y_%H%M%S\")\n",
    "\n",
    "\n",
    "# Run output in terminal \n",
    "# make sure you are in the 'yolov5' folder\n",
    "print(f\"python ./yolov5/train.py --img 640 --batch 16 --epochs 10 --data ./datasets/custom_dataset.yaml --weights {weights} --cache --name {train1_run_name}\")"
   ]
  }
 ],
 "metadata": {
  "kernelspec": {
   "display_name": "tf",
   "language": "python",
   "name": "python3"
  },
  "language_info": {
   "codemirror_mode": {
    "name": "ipython",
    "version": 3
   },
   "file_extension": ".py",
   "mimetype": "text/x-python",
   "name": "python",
   "nbconvert_exporter": "python",
   "pygments_lexer": "ipython3",
   "version": "3.9.16"
  },
  "orig_nbformat": 4
 },
 "nbformat": 4,
 "nbformat_minor": 2
}
